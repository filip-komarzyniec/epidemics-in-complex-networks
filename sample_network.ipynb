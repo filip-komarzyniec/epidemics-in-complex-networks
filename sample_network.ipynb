{
 "cells": [
  {
   "cell_type": "code",
   "execution_count": 42,
   "id": "070a1609-9073-45ed-b553-e88f27320a45",
   "metadata": {},
   "outputs": [],
   "source": [
    "import networkx\n",
    "import pandas as pd"
   ]
  },
  {
   "cell_type": "code",
   "execution_count": 1,
   "id": "48d87208-7a5b-49c2-946b-bf7adb38310e",
   "metadata": {},
   "outputs": [
    {
     "name": "stdout",
     "output_type": "stream",
     "text": [
      "--2021-11-09 18:47:37--  https://snap.stanford.edu/data/twitch.zip\n",
      "SSL_INIT\n",
      "Loaded CA certificate '/etc/ssl/certs/ca-certificates.crt'\n",
      "Resolving snap.stanford.edu (snap.stanford.edu)... 171.64.75.80\n",
      "Connecting to snap.stanford.edu (snap.stanford.edu)|171.64.75.80|:443... connected.\n",
      "HTTP request sent, awaiting response... 200 OK\n",
      "Length: 2842994 (2,7M) [application/zip]\n",
      "Saving to: ‘twitch.zip’\n",
      "\n",
      "twitch.zip          100%[===================>]   2,71M   887KB/s    in 3,1s    \n",
      "\n",
      "2021-11-09 18:47:41 (887 KB/s) - ‘twitch.zip’ saved [2842994/2842994]\n",
      "\n"
     ]
    }
   ],
   "source": [
    "!wget https://snap.stanford.edu/data/twitch.zip"
   ]
  },
  {
   "cell_type": "code",
   "execution_count": 2,
   "id": "f5238b69-fdde-4827-8e47-86f40e33ae88",
   "metadata": {},
   "outputs": [
    {
     "name": "stdout",
     "output_type": "stream",
     "text": [
      "Archive:  twitch.zip\n",
      "   creating: twitch/\n",
      "   creating: twitch/DE/\n",
      "  inflating: twitch/DE/musae_DE.json  \n",
      "  inflating: twitch/DE/musae_DE_edges.csv  \n",
      "  inflating: twitch/DE/musae_DE_target.csv  \n",
      "   creating: twitch/ENGB/\n",
      "  inflating: twitch/ENGB/musae_ENGB_edges.csv  \n",
      "  inflating: twitch/ENGB/musae_ENGB_features.json  \n",
      "  inflating: twitch/ENGB/musae_ENGB_target.csv  \n",
      "   creating: twitch/ES/\n",
      "  inflating: twitch/ES/musae_ES_edges.csv  \n",
      "  inflating: twitch/ES/musae_ES_features.json  \n",
      "  inflating: twitch/ES/musae_ES_target.csv  \n",
      "   creating: twitch/FR/\n",
      "  inflating: twitch/FR/musae_FR_edges.csv  \n",
      "  inflating: twitch/FR/musae_FR_features.json  \n",
      "  inflating: twitch/FR/musae_FR_target.csv  \n",
      "   creating: twitch/PTBR/\n",
      "  inflating: twitch/PTBR/musae_PTBR_edges.csv  \n",
      "  inflating: twitch/PTBR/musae_PTBR_features.json  \n",
      "  inflating: twitch/PTBR/musae_PTBR_target.csv  \n",
      "   creating: twitch/RU/\n",
      "  inflating: twitch/RU/musae_RU_edges.csv  \n",
      "  inflating: twitch/RU/musae_RU_features.json  \n",
      "  inflating: twitch/RU/musae_RU_target.csv  \n",
      "  inflating: twitch/citing.txt       \n",
      "  inflating: twitch/README.txt       \n"
     ]
    }
   ],
   "source": [
    "!unzip twitch.zip"
   ]
  },
  {
   "cell_type": "code",
   "execution_count": 45,
   "id": "5fe37f5c-3661-4cd9-aba8-16ab867b86ff",
   "metadata": {},
   "outputs": [],
   "source": [
    "GRAPH_DIR = \"twitch/DE\""
   ]
  },
  {
   "cell_type": "code",
   "execution_count": 46,
   "id": "ea0edd07-1532-465a-9051-c9fd44f368d4",
   "metadata": {},
   "outputs": [],
   "source": [
    "edges = pd.read_csv(GRAPH_DIR + \"/musae_DE_edges.csv\")"
   ]
  },
  {
   "cell_type": "code",
   "execution_count": 47,
   "id": "5cd57319-a515-434b-828f-0e6a9f22a0c7",
   "metadata": {},
   "outputs": [
    {
     "data": {
      "text/html": [
       "<div>\n",
       "<style scoped>\n",
       "    .dataframe tbody tr th:only-of-type {\n",
       "        vertical-align: middle;\n",
       "    }\n",
       "\n",
       "    .dataframe tbody tr th {\n",
       "        vertical-align: top;\n",
       "    }\n",
       "\n",
       "    .dataframe thead th {\n",
       "        text-align: right;\n",
       "    }\n",
       "</style>\n",
       "<table border=\"1\" class=\"dataframe\">\n",
       "  <thead>\n",
       "    <tr style=\"text-align: right;\">\n",
       "      <th></th>\n",
       "      <th>from</th>\n",
       "      <th>to</th>\n",
       "    </tr>\n",
       "  </thead>\n",
       "  <tbody>\n",
       "    <tr>\n",
       "      <th>0</th>\n",
       "      <td>0</td>\n",
       "      <td>9206</td>\n",
       "    </tr>\n",
       "    <tr>\n",
       "      <th>1</th>\n",
       "      <td>0</td>\n",
       "      <td>7787</td>\n",
       "    </tr>\n",
       "    <tr>\n",
       "      <th>2</th>\n",
       "      <td>0</td>\n",
       "      <td>2145</td>\n",
       "    </tr>\n",
       "    <tr>\n",
       "      <th>3</th>\n",
       "      <td>0</td>\n",
       "      <td>2684</td>\n",
       "    </tr>\n",
       "    <tr>\n",
       "      <th>4</th>\n",
       "      <td>0</td>\n",
       "      <td>7275</td>\n",
       "    </tr>\n",
       "    <tr>\n",
       "      <th>...</th>\n",
       "      <td>...</td>\n",
       "      <td>...</td>\n",
       "    </tr>\n",
       "    <tr>\n",
       "      <th>153133</th>\n",
       "      <td>2547</td>\n",
       "      <td>2092</td>\n",
       "    </tr>\n",
       "    <tr>\n",
       "      <th>153134</th>\n",
       "      <td>9461</td>\n",
       "      <td>2092</td>\n",
       "    </tr>\n",
       "    <tr>\n",
       "      <th>153135</th>\n",
       "      <td>9295</td>\n",
       "      <td>7802</td>\n",
       "    </tr>\n",
       "    <tr>\n",
       "      <th>153136</th>\n",
       "      <td>7436</td>\n",
       "      <td>9487</td>\n",
       "    </tr>\n",
       "    <tr>\n",
       "      <th>153137</th>\n",
       "      <td>1793</td>\n",
       "      <td>9194</td>\n",
       "    </tr>\n",
       "  </tbody>\n",
       "</table>\n",
       "<p>153138 rows × 2 columns</p>\n",
       "</div>"
      ],
      "text/plain": [
       "        from    to\n",
       "0          0  9206\n",
       "1          0  7787\n",
       "2          0  2145\n",
       "3          0  2684\n",
       "4          0  7275\n",
       "...      ...   ...\n",
       "153133  2547  2092\n",
       "153134  9461  2092\n",
       "153135  9295  7802\n",
       "153136  7436  9487\n",
       "153137  1793  9194\n",
       "\n",
       "[153138 rows x 2 columns]"
      ]
     },
     "execution_count": 47,
     "metadata": {},
     "output_type": "execute_result"
    }
   ],
   "source": [
    "edges"
   ]
  },
  {
   "cell_type": "code",
   "execution_count": 48,
   "id": "2f8db0aa-22c0-4878-be33-3af0460939d7",
   "metadata": {},
   "outputs": [],
   "source": [
    "nodes = pd.read_csv(GRAPH_DIR + \"/musae_DE_target.csv\")"
   ]
  },
  {
   "cell_type": "code",
   "execution_count": 49,
   "id": "af451017-8064-40e4-af96-9da89aa431d1",
   "metadata": {},
   "outputs": [
    {
     "data": {
      "text/html": [
       "<div>\n",
       "<style scoped>\n",
       "    .dataframe tbody tr th:only-of-type {\n",
       "        vertical-align: middle;\n",
       "    }\n",
       "\n",
       "    .dataframe tbody tr th {\n",
       "        vertical-align: top;\n",
       "    }\n",
       "\n",
       "    .dataframe thead th {\n",
       "        text-align: right;\n",
       "    }\n",
       "</style>\n",
       "<table border=\"1\" class=\"dataframe\">\n",
       "  <thead>\n",
       "    <tr style=\"text-align: right;\">\n",
       "      <th></th>\n",
       "      <th>id</th>\n",
       "      <th>days</th>\n",
       "      <th>mature</th>\n",
       "      <th>views</th>\n",
       "      <th>partner</th>\n",
       "      <th>new_id</th>\n",
       "    </tr>\n",
       "  </thead>\n",
       "  <tbody>\n",
       "    <tr>\n",
       "      <th>0</th>\n",
       "      <td>37905227</td>\n",
       "      <td>2149</td>\n",
       "      <td>True</td>\n",
       "      <td>162078</td>\n",
       "      <td>False</td>\n",
       "      <td>5079</td>\n",
       "    </tr>\n",
       "    <tr>\n",
       "      <th>1</th>\n",
       "      <td>63102384</td>\n",
       "      <td>1574</td>\n",
       "      <td>True</td>\n",
       "      <td>1370</td>\n",
       "      <td>False</td>\n",
       "      <td>4281</td>\n",
       "    </tr>\n",
       "    <tr>\n",
       "      <th>2</th>\n",
       "      <td>109414094</td>\n",
       "      <td>1034</td>\n",
       "      <td>True</td>\n",
       "      <td>6043</td>\n",
       "      <td>False</td>\n",
       "      <td>992</td>\n",
       "    </tr>\n",
       "    <tr>\n",
       "      <th>3</th>\n",
       "      <td>84163849</td>\n",
       "      <td>1319</td>\n",
       "      <td>True</td>\n",
       "      <td>94298</td>\n",
       "      <td>True</td>\n",
       "      <td>9021</td>\n",
       "    </tr>\n",
       "    <tr>\n",
       "      <th>4</th>\n",
       "      <td>38240837</td>\n",
       "      <td>2137</td>\n",
       "      <td>True</td>\n",
       "      <td>2323</td>\n",
       "      <td>False</td>\n",
       "      <td>330</td>\n",
       "    </tr>\n",
       "    <tr>\n",
       "      <th>...</th>\n",
       "      <td>...</td>\n",
       "      <td>...</td>\n",
       "      <td>...</td>\n",
       "      <td>...</td>\n",
       "      <td>...</td>\n",
       "      <td>...</td>\n",
       "    </tr>\n",
       "    <tr>\n",
       "      <th>9493</th>\n",
       "      <td>123101102</td>\n",
       "      <td>895</td>\n",
       "      <td>True</td>\n",
       "      <td>128</td>\n",
       "      <td>False</td>\n",
       "      <td>4572</td>\n",
       "    </tr>\n",
       "    <tr>\n",
       "      <th>9494</th>\n",
       "      <td>40627165</td>\n",
       "      <td>2001</td>\n",
       "      <td>False</td>\n",
       "      <td>44</td>\n",
       "      <td>False</td>\n",
       "      <td>6355</td>\n",
       "    </tr>\n",
       "    <tr>\n",
       "      <th>9495</th>\n",
       "      <td>50643307</td>\n",
       "      <td>1784</td>\n",
       "      <td>True</td>\n",
       "      <td>2038</td>\n",
       "      <td>False</td>\n",
       "      <td>206</td>\n",
       "    </tr>\n",
       "    <tr>\n",
       "      <th>9496</th>\n",
       "      <td>38810779</td>\n",
       "      <td>2114</td>\n",
       "      <td>False</td>\n",
       "      <td>449</td>\n",
       "      <td>False</td>\n",
       "      <td>7695</td>\n",
       "    </tr>\n",
       "    <tr>\n",
       "      <th>9497</th>\n",
       "      <td>58351323</td>\n",
       "      <td>1680</td>\n",
       "      <td>False</td>\n",
       "      <td>10638954</td>\n",
       "      <td>True</td>\n",
       "      <td>4451</td>\n",
       "    </tr>\n",
       "  </tbody>\n",
       "</table>\n",
       "<p>9498 rows × 6 columns</p>\n",
       "</div>"
      ],
      "text/plain": [
       "             id  days  mature     views  partner  new_id\n",
       "0      37905227  2149    True    162078    False    5079\n",
       "1      63102384  1574    True      1370    False    4281\n",
       "2     109414094  1034    True      6043    False     992\n",
       "3      84163849  1319    True     94298     True    9021\n",
       "4      38240837  2137    True      2323    False     330\n",
       "...         ...   ...     ...       ...      ...     ...\n",
       "9493  123101102   895    True       128    False    4572\n",
       "9494   40627165  2001   False        44    False    6355\n",
       "9495   50643307  1784    True      2038    False     206\n",
       "9496   38810779  2114   False       449    False    7695\n",
       "9497   58351323  1680   False  10638954     True    4451\n",
       "\n",
       "[9498 rows x 6 columns]"
      ]
     },
     "execution_count": 49,
     "metadata": {},
     "output_type": "execute_result"
    }
   ],
   "source": [
    "nodes"
   ]
  },
  {
   "cell_type": "code",
   "execution_count": 50,
   "id": "84369b71-5c97-4b3d-b8a1-e6403843763e",
   "metadata": {},
   "outputs": [],
   "source": [
    "import networkx as nx"
   ]
  },
  {
   "cell_type": "code",
   "execution_count": 51,
   "id": "4018b202-4dd8-4315-9741-ed152e03fe46",
   "metadata": {},
   "outputs": [],
   "source": [
    "Graphtype = nx.Graph()\n",
    "G = nx.from_pandas_edgelist(edges, source='from', target='to', create_using=Graphtype)"
   ]
  },
  {
   "cell_type": "code",
   "execution_count": 1,
   "id": "e21b1de9-6fb8-4262-962e-4234adf555ab",
   "metadata": {},
   "outputs": [],
   "source": [
    "import random"
   ]
  },
  {
   "cell_type": "code",
   "execution_count": 53,
   "id": "8261aebf-1c0f-459e-9cd2-28fd638cbbc2",
   "metadata": {},
   "outputs": [],
   "source": [
    "# Na podstawie Epidemic Modeling with Modified Small-World Networks, Jingxin Zhang"
   ]
  },
  {
   "cell_type": "code",
   "execution_count": 54,
   "id": "c685c3dc-7e71-43ff-8f1b-6956f3afc34b",
   "metadata": {},
   "outputs": [],
   "source": [
    "def beta_graph(n,k,beta):\n",
    "    beta_graph = rewire(ring_lattice(n,k),beta)\n",
    "    return beta_graph\n",
    "\n",
    "def ring_lattice(n,k):\n",
    "    ring_lattice = nx.Graph()\n",
    "    ring_lattice.add_nodes_from([i for i in range(n)])\n",
    "    for i in range(n):\n",
    "        for j in range(int(k/2)):\n",
    "            ring_lattice.add_edge(i,(i+j+1)%n)\n",
    "    return ring_lattice\n",
    "\n",
    "def rewire(graph, beta):\n",
    "    n = graph.number_of_nodes()\n",
    "    for edge in list(graph.edges()):\n",
    "        if random.random() < beta:\n",
    "            if edge[0] > edge[1]:\n",
    "                if edge[0] - edge[1] < n/2:\n",
    "                    node = edge[0]\n",
    "                else:\n",
    "                    node = edge[1]\n",
    "            else:\n",
    "                if edge[1] - edge[0] < n/2:\n",
    "                    node = edge[1]\n",
    "                else:\n",
    "                    node = edge[0]\n",
    "            choices = list(nx.non_neighbors(graph,node))\n",
    "            graph.remove_edge(edge[0],edge[1])\n",
    "            graph.add_edge(node, choices[random.randint(0,len(choices)-1)])\n",
    "    return graph"
   ]
  },
  {
   "cell_type": "code",
   "execution_count": 205,
   "id": "f1ea8fef-3227-4e4b-8859-c23a943f8b28",
   "metadata": {},
   "outputs": [],
   "source": [
    "def save_data_to_file(status,steps,name):\n",
    "    df_status = pd.DataFrame(status,columns=[\"status\"]).reset_index().rename(columns={\"index\":\"node\"})\n",
    "    df_status.to_csv(f\"./simulation_results/nodes_{name}_{steps}.csv\",index=None)"
   ]
  },
  {
   "cell_type": "code",
   "execution_count": 206,
   "id": "206c9c39-4cf2-4c0a-bd00-425e4851cd03",
   "metadata": {},
   "outputs": [],
   "source": [
    "def simulate_SIR(graph,k,p,T,name):\n",
    "    n = graph.number_of_nodes()\n",
    "    \n",
    "    steps = 1\n",
    "    status = [0]*n # status=O - suspectible\n",
    "    days = [0]*n\n",
    "    infected = []\n",
    "    cum_infected_data = [0]\n",
    "    infected_data = [0]\n",
    "    \n",
    "    infected = random.sample(list(graph.nodes()),k)\n",
    "    infected_data.append(k)\n",
    "    \n",
    "    for v in infected:\n",
    "        status[v] = 1 # status=1 - infected\n",
    "        days[v] = T\n",
    "        cum_infected_data[-1] = cum_infected_data[-1] + 1/n\n",
    "        \n",
    "    save_data_to_file(status,steps,name)\n",
    "        \n",
    "    while len(infected) > 0:\n",
    "        steps += 1\n",
    "        cum_infected_data.append(cum_infected_data[-1])\n",
    "        new_infected = []\n",
    "        \n",
    "        for node in infected:\n",
    "            for v in list(graph.neighbors(node)):\n",
    "                if status[v] == 0 and random.random() < p:\n",
    "                    new_infected.append(v)\n",
    "                    status[v] = 1\n",
    "                    days[v] = T\n",
    "                    cum_infected_data[-1] = cum_infected_data[-1] + 1/n\n",
    "            days[node] = days[node] - 1\n",
    "            if days[node] < 1:\n",
    "                infected.remove(node)\n",
    "                status[node] = 2 # status=2 - recovered\n",
    "                \n",
    "        infected = infected + new_infected\n",
    "        infected_data.append(len(infected))\n",
    "        \n",
    "        if steps % 5 == 0:\n",
    "            save_data_to_file(status,steps,name)\n",
    "            \n",
    "    save_data_to_file(status,steps,name)\n",
    "    \n",
    "    return cum_infected_data, infected_data, steps"
   ]
  },
  {
   "cell_type": "code",
   "execution_count": 207,
   "id": "6f49c13f-4fdf-4953-b08b-96c566f2dba5",
   "metadata": {},
   "outputs": [],
   "source": [
    "import time"
   ]
  },
  {
   "cell_type": "code",
   "execution_count": 208,
   "id": "a34f0d65-0902-4faa-b83f-0eb3de6bd03c",
   "metadata": {},
   "outputs": [],
   "source": [
    "start_time = time.time()\n",
    "cum_infected, infected, steps = simulate_SIR(G,2,0.1,5,\"twitch_de\")\n",
    "end_time = time.time()"
   ]
  },
  {
   "cell_type": "code",
   "execution_count": 209,
   "id": "04e72ae0-1c50-41ec-95dc-4f8bc8a57215",
   "metadata": {},
   "outputs": [
    {
     "data": {
      "text/plain": [
       "2.6538379192352295"
      ]
     },
     "execution_count": 209,
     "metadata": {},
     "output_type": "execute_result"
    }
   ],
   "source": [
    "end_time - start_time"
   ]
  },
  {
   "cell_type": "code",
   "execution_count": 210,
   "id": "5d5e5296-dd79-4f46-8b61-5dce173ece56",
   "metadata": {},
   "outputs": [],
   "source": [
    "import matplotlib.pyplot as plt"
   ]
  },
  {
   "cell_type": "code",
   "execution_count": 211,
   "id": "35edcdac-0497-4292-a12d-a0062a2863b4",
   "metadata": {},
   "outputs": [
    {
     "data": {
      "text/plain": [
       "29"
      ]
     },
     "execution_count": 211,
     "metadata": {},
     "output_type": "execute_result"
    }
   ],
   "source": [
    "steps"
   ]
  },
  {
   "cell_type": "code",
   "execution_count": 212,
   "id": "e2b34c31-78d8-46dc-8176-37ce07bd9cfb",
   "metadata": {},
   "outputs": [
    {
     "data": {
      "image/png": "[encoded data removed]",
      "text/plain": [
       "<Figure size 720x432 with 1 Axes>"
      ]
     },
     "metadata": {
      "needs_background": "light"
     },
     "output_type": "display_data"
    }
   ],
   "source": [
    "plt.figure(figsize=(10,6))\n",
    "plt.plot(cum_infected)\n",
    "plt.xlabel(\"days\")\n",
    "plt.ylabel(\"cumulative infected\")\n",
    "plt.show()"
   ]
  },
  {
   "cell_type": "code",
   "execution_count": 199,
   "id": "11d3c45d-89fb-4546-a8aa-e7ed5578923a",
   "metadata": {},
   "outputs": [
    {
     "data": {
      "image/png": "[encoded data removed]",
      "text/plain": [
       "<Figure size 720x432 with 1 Axes>"
      ]
     },
     "metadata": {
      "needs_background": "light"
     },
     "output_type": "display_data"
    }
   ],
   "source": [
    "plt.figure(figsize=(10,6))\n",
    "plt.plot(infected,c=\"tab:red\")\n",
    "plt.xlabel(\"days\")\n",
    "plt.ylabel(\"infected\")\n",
    "plt.show()"
   ]
  }
 ],
 "metadata": {
  "kernelspec": {
   "display_name": "isz_env",
   "language": "python",
   "name": "isz_env"
  },
  "language_info": {
   "codemirror_mode": {
    "name": "ipython",
    "version": 3
   },
   "file_extension": ".py",
   "mimetype": "text/x-python",
   "name": "python",
   "nbconvert_exporter": "python",
   "pygments_lexer": "ipython3",
   "version": "3.9.7"
  },
  "toc": {
   "base_numbering": 1,
   "nav_menu": {},
   "number_sections": true,
   "sideBar": true,
   "skip_h1_title": false,
   "title_cell": "Table of Contents",
   "title_sidebar": "Contents",
   "toc_cell": false,
   "toc_position": {},
   "toc_section_display": true,
   "toc_window_display": false
  }
 },
 "nbformat": 4,
 "nbformat_minor": 5
}
