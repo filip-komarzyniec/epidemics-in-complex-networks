{
 "cells": [
  {
   "cell_type": "code",
   "execution_count": 80,
   "id": "070a1609-9073-45ed-b553-e88f27320a45",
   "metadata": {},
   "outputs": [],
   "source": [
    "import networkx as nx\n",
    "import pandas as pd\n",
    "import os\n",
    "import time\n",
    "import random\n",
    "import matplotlib.pyplot as plt"
   ]
  },
  {
   "cell_type": "code",
   "execution_count": 1,
   "id": "48d87208-7a5b-49c2-946b-bf7adb38310e",
   "metadata": {},
   "outputs": [
    {
     "name": "stdout",
     "output_type": "stream",
     "text": [
      "--2021-11-09 18:47:37--  https://snap.stanford.edu/data/twitch.zip\n",
      "SSL_INIT\n",
      "Loaded CA certificate '/etc/ssl/certs/ca-certificates.crt'\n",
      "Resolving snap.stanford.edu (snap.stanford.edu)... 171.64.75.80\n",
      "Connecting to snap.stanford.edu (snap.stanford.edu)|171.64.75.80|:443... connected.\n",
      "HTTP request sent, awaiting response... 200 OK\n",
      "Length: 2842994 (2,7M) [application/zip]\n",
      "Saving to: ‘twitch.zip’\n",
      "\n",
      "twitch.zip          100%[===================>]   2,71M   887KB/s    in 3,1s    \n",
      "\n",
      "2021-11-09 18:47:41 (887 KB/s) - ‘twitch.zip’ saved [2842994/2842994]\n",
      "\n"
     ]
    }
   ],
   "source": [
    "!wget https://snap.stanford.edu/data/twitch.zip"
   ]
  },
  {
   "cell_type": "code",
   "execution_count": 2,
   "id": "f5238b69-fdde-4827-8e47-86f40e33ae88",
   "metadata": {},
   "outputs": [
    {
     "name": "stdout",
     "output_type": "stream",
     "text": [
      "Archive:  twitch.zip\n",
      "   creating: twitch/\n",
      "   creating: twitch/DE/\n",
      "  inflating: twitch/DE/musae_DE.json  \n",
      "  inflating: twitch/DE/musae_DE_edges.csv  \n",
      "  inflating: twitch/DE/musae_DE_target.csv  \n",
      "   creating: twitch/ENGB/\n",
      "  inflating: twitch/ENGB/musae_ENGB_edges.csv  \n",
      "  inflating: twitch/ENGB/musae_ENGB_features.json  \n",
      "  inflating: twitch/ENGB/musae_ENGB_target.csv  \n",
      "   creating: twitch/ES/\n",
      "  inflating: twitch/ES/musae_ES_edges.csv  \n",
      "  inflating: twitch/ES/musae_ES_features.json  \n",
      "  inflating: twitch/ES/musae_ES_target.csv  \n",
      "   creating: twitch/FR/\n",
      "  inflating: twitch/FR/musae_FR_edges.csv  \n",
      "  inflating: twitch/FR/musae_FR_features.json  \n",
      "  inflating: twitch/FR/musae_FR_target.csv  \n",
      "   creating: twitch/PTBR/\n",
      "  inflating: twitch/PTBR/musae_PTBR_edges.csv  \n",
      "  inflating: twitch/PTBR/musae_PTBR_features.json  \n",
      "  inflating: twitch/PTBR/musae_PTBR_target.csv  \n",
      "   creating: twitch/RU/\n",
      "  inflating: twitch/RU/musae_RU_edges.csv  \n",
      "  inflating: twitch/RU/musae_RU_features.json  \n",
      "  inflating: twitch/RU/musae_RU_target.csv  \n",
      "  inflating: twitch/citing.txt       \n",
      "  inflating: twitch/README.txt       \n"
     ]
    }
   ],
   "source": [
    "!unzip twitch.zip"
   ]
  },
  {
   "cell_type": "code",
   "execution_count": 167,
   "id": "86504373-2249-4e3f-94d7-244152374a9f",
   "metadata": {},
   "outputs": [],
   "source": [
    "COUNTRY = \"RU\""
   ]
  },
  {
   "cell_type": "code",
   "execution_count": 168,
   "id": "5fe37f5c-3661-4cd9-aba8-16ab867b86ff",
   "metadata": {},
   "outputs": [],
   "source": [
    "GRAPH_DIR = f\"twitch/{COUNTRY}\""
   ]
  },
  {
   "cell_type": "code",
   "execution_count": 169,
   "id": "ea0edd07-1532-465a-9051-c9fd44f368d4",
   "metadata": {},
   "outputs": [],
   "source": [
    "edges = pd.read_csv(GRAPH_DIR + f\"/musae_{COUNTRY}_edges.csv\")"
   ]
  },
  {
   "cell_type": "code",
   "execution_count": 170,
   "id": "5044e987-50bf-4b64-bc14-5064b876cf39",
   "metadata": {},
   "outputs": [],
   "source": [
    "edges_renamed = edges.rename(columns={\"from\":\"Source\",\"to\":\"Target\"})"
   ]
  },
  {
   "cell_type": "code",
   "execution_count": 171,
   "id": "5cd57319-a515-434b-828f-0e6a9f22a0c7",
   "metadata": {},
   "outputs": [
    {
     "data": {
      "text/html": [
       "<div>\n",
       "<style scoped>\n",
       "    .dataframe tbody tr th:only-of-type {\n",
       "        vertical-align: middle;\n",
       "    }\n",
       "\n",
       "    .dataframe tbody tr th {\n",
       "        vertical-align: top;\n",
       "    }\n",
       "\n",
       "    .dataframe thead th {\n",
       "        text-align: right;\n",
       "    }\n",
       "</style>\n",
       "<table border=\"1\" class=\"dataframe\">\n",
       "  <thead>\n",
       "    <tr style=\"text-align: right;\">\n",
       "      <th></th>\n",
       "      <th>Source</th>\n",
       "      <th>Target</th>\n",
       "    </tr>\n",
       "  </thead>\n",
       "  <tbody>\n",
       "    <tr>\n",
       "      <th>0</th>\n",
       "      <td>0</td>\n",
       "      <td>646</td>\n",
       "    </tr>\n",
       "    <tr>\n",
       "      <th>1</th>\n",
       "      <td>0</td>\n",
       "      <td>2510</td>\n",
       "    </tr>\n",
       "    <tr>\n",
       "      <th>2</th>\n",
       "      <td>0</td>\n",
       "      <td>2425</td>\n",
       "    </tr>\n",
       "    <tr>\n",
       "      <th>3</th>\n",
       "      <td>0</td>\n",
       "      <td>2596</td>\n",
       "    </tr>\n",
       "    <tr>\n",
       "      <th>4</th>\n",
       "      <td>0</td>\n",
       "      <td>85</td>\n",
       "    </tr>\n",
       "    <tr>\n",
       "      <th>...</th>\n",
       "      <td>...</td>\n",
       "      <td>...</td>\n",
       "    </tr>\n",
       "    <tr>\n",
       "      <th>37299</th>\n",
       "      <td>4313</td>\n",
       "      <td>4338</td>\n",
       "    </tr>\n",
       "    <tr>\n",
       "      <th>37300</th>\n",
       "      <td>4313</td>\n",
       "      <td>1199</td>\n",
       "    </tr>\n",
       "    <tr>\n",
       "      <th>37301</th>\n",
       "      <td>4328</td>\n",
       "      <td>4337</td>\n",
       "    </tr>\n",
       "    <tr>\n",
       "      <th>37302</th>\n",
       "      <td>4333</td>\n",
       "      <td>4351</td>\n",
       "    </tr>\n",
       "    <tr>\n",
       "      <th>37303</th>\n",
       "      <td>4126</td>\n",
       "      <td>4346</td>\n",
       "    </tr>\n",
       "  </tbody>\n",
       "</table>\n",
       "<p>37304 rows × 2 columns</p>\n",
       "</div>"
      ],
      "text/plain": [
       "       Source  Target\n",
       "0           0     646\n",
       "1           0    2510\n",
       "2           0    2425\n",
       "3           0    2596\n",
       "4           0      85\n",
       "...       ...     ...\n",
       "37299    4313    4338\n",
       "37300    4313    1199\n",
       "37301    4328    4337\n",
       "37302    4333    4351\n",
       "37303    4126    4346\n",
       "\n",
       "[37304 rows x 2 columns]"
      ]
     },
     "execution_count": 171,
     "metadata": {},
     "output_type": "execute_result"
    }
   ],
   "source": [
    "edges_renamed"
   ]
  },
  {
   "cell_type": "code",
   "execution_count": 172,
   "id": "b6413546-cae9-4351-9222-4e1738b41415",
   "metadata": {},
   "outputs": [],
   "source": [
    "edges_renamed.to_csv(GRAPH_DIR + f\"/musae_{COUNTRY}_edges_gephi.csv\",index=None)"
   ]
  },
  {
   "cell_type": "code",
   "execution_count": 173,
   "id": "2f8db0aa-22c0-4878-be33-3af0460939d7",
   "metadata": {},
   "outputs": [],
   "source": [
    "nodes = pd.read_csv(GRAPH_DIR + f\"/musae_{COUNTRY}_target.csv\")"
   ]
  },
  {
   "cell_type": "code",
   "execution_count": 174,
   "id": "af451017-8064-40e4-af96-9da89aa431d1",
   "metadata": {},
   "outputs": [
    {
     "data": {
      "text/html": [
       "<div>\n",
       "<style scoped>\n",
       "    .dataframe tbody tr th:only-of-type {\n",
       "        vertical-align: middle;\n",
       "    }\n",
       "\n",
       "    .dataframe tbody tr th {\n",
       "        vertical-align: top;\n",
       "    }\n",
       "\n",
       "    .dataframe thead th {\n",
       "        text-align: right;\n",
       "    }\n",
       "</style>\n",
       "<table border=\"1\" class=\"dataframe\">\n",
       "  <thead>\n",
       "    <tr style=\"text-align: right;\">\n",
       "      <th></th>\n",
       "      <th>id</th>\n",
       "      <th>days</th>\n",
       "      <th>mature</th>\n",
       "      <th>views</th>\n",
       "      <th>partner</th>\n",
       "      <th>new_id</th>\n",
       "    </tr>\n",
       "  </thead>\n",
       "  <tbody>\n",
       "    <tr>\n",
       "      <th>0</th>\n",
       "      <td>43622128</td>\n",
       "      <td>1910</td>\n",
       "      <td>False</td>\n",
       "      <td>2002</td>\n",
       "      <td>False</td>\n",
       "      <td>1076</td>\n",
       "    </tr>\n",
       "    <tr>\n",
       "      <th>1</th>\n",
       "      <td>32314097</td>\n",
       "      <td>2273</td>\n",
       "      <td>True</td>\n",
       "      <td>1885</td>\n",
       "      <td>False</td>\n",
       "      <td>1090</td>\n",
       "    </tr>\n",
       "    <tr>\n",
       "      <th>2</th>\n",
       "      <td>112985248</td>\n",
       "      <td>998</td>\n",
       "      <td>False</td>\n",
       "      <td>14538</td>\n",
       "      <td>False</td>\n",
       "      <td>633</td>\n",
       "    </tr>\n",
       "    <tr>\n",
       "      <th>3</th>\n",
       "      <td>54595718</td>\n",
       "      <td>1738</td>\n",
       "      <td>True</td>\n",
       "      <td>8541</td>\n",
       "      <td>False</td>\n",
       "      <td>2238</td>\n",
       "    </tr>\n",
       "    <tr>\n",
       "      <th>4</th>\n",
       "      <td>72920173</td>\n",
       "      <td>1461</td>\n",
       "      <td>False</td>\n",
       "      <td>49854</td>\n",
       "      <td>False</td>\n",
       "      <td>1662</td>\n",
       "    </tr>\n",
       "    <tr>\n",
       "      <th>...</th>\n",
       "      <td>...</td>\n",
       "      <td>...</td>\n",
       "      <td>...</td>\n",
       "      <td>...</td>\n",
       "      <td>...</td>\n",
       "      <td>...</td>\n",
       "    </tr>\n",
       "    <tr>\n",
       "      <th>4380</th>\n",
       "      <td>89307159</td>\n",
       "      <td>1267</td>\n",
       "      <td>False</td>\n",
       "      <td>31085</td>\n",
       "      <td>False</td>\n",
       "      <td>3249</td>\n",
       "    </tr>\n",
       "    <tr>\n",
       "      <th>4381</th>\n",
       "      <td>91304162</td>\n",
       "      <td>1244</td>\n",
       "      <td>False</td>\n",
       "      <td>37971</td>\n",
       "      <td>False</td>\n",
       "      <td>2287</td>\n",
       "    </tr>\n",
       "    <tr>\n",
       "      <th>4382</th>\n",
       "      <td>142285340</td>\n",
       "      <td>663</td>\n",
       "      <td>False</td>\n",
       "      <td>24686</td>\n",
       "      <td>False</td>\n",
       "      <td>1095</td>\n",
       "    </tr>\n",
       "    <tr>\n",
       "      <th>4383</th>\n",
       "      <td>46489985</td>\n",
       "      <td>1885</td>\n",
       "      <td>False</td>\n",
       "      <td>12129</td>\n",
       "      <td>False</td>\n",
       "      <td>207</td>\n",
       "    </tr>\n",
       "    <tr>\n",
       "      <th>4384</th>\n",
       "      <td>135692583</td>\n",
       "      <td>742</td>\n",
       "      <td>True</td>\n",
       "      <td>10984</td>\n",
       "      <td>False</td>\n",
       "      <td>156</td>\n",
       "    </tr>\n",
       "  </tbody>\n",
       "</table>\n",
       "<p>4385 rows × 6 columns</p>\n",
       "</div>"
      ],
      "text/plain": [
       "             id  days  mature  views  partner  new_id\n",
       "0      43622128  1910   False   2002    False    1076\n",
       "1      32314097  2273    True   1885    False    1090\n",
       "2     112985248   998   False  14538    False     633\n",
       "3      54595718  1738    True   8541    False    2238\n",
       "4      72920173  1461   False  49854    False    1662\n",
       "...         ...   ...     ...    ...      ...     ...\n",
       "4380   89307159  1267   False  31085    False    3249\n",
       "4381   91304162  1244   False  37971    False    2287\n",
       "4382  142285340   663   False  24686    False    1095\n",
       "4383   46489985  1885   False  12129    False     207\n",
       "4384  135692583   742    True  10984    False     156\n",
       "\n",
       "[4385 rows x 6 columns]"
      ]
     },
     "execution_count": 174,
     "metadata": {},
     "output_type": "execute_result"
    }
   ],
   "source": [
    "nodes"
   ]
  },
  {
   "cell_type": "code",
   "execution_count": 175,
   "id": "4018b202-4dd8-4315-9741-ed152e03fe46",
   "metadata": {},
   "outputs": [],
   "source": [
    "Graphtype = nx.Graph()\n",
    "G = nx.from_pandas_edgelist(edges, source='from', target='to', create_using=Graphtype)"
   ]
  },
  {
   "cell_type": "code",
   "execution_count": 176,
   "id": "8261aebf-1c0f-459e-9cd2-28fd638cbbc2",
   "metadata": {},
   "outputs": [],
   "source": [
    "# Na podstawie Epidemic Modeling with Modified Small-World Networks, Jingxin Zhang"
   ]
  },
  {
   "cell_type": "code",
   "execution_count": 177,
   "id": "f1ea8fef-3227-4e4b-8859-c23a943f8b28",
   "metadata": {},
   "outputs": [],
   "source": [
    "def save_data_to_file(status,steps,path):\n",
    "    df_status = pd.DataFrame(status,columns=[\"status\"]).reset_index().rename(columns={\"index\":\"node\"})\n",
    "    df_status.to_csv(f\"{path}/nodes_{steps}.csv\",index=None)"
   ]
  },
  {
   "cell_type": "code",
   "execution_count": 178,
   "id": "07df81c9-d06f-4fd8-92c7-88f3881d5b64",
   "metadata": {},
   "outputs": [],
   "source": [
    "def get_path(name,directory):\n",
    "    dirpath = Path(directory) / name\n",
    "    if dirpath.exists() and dirpath.is_dir():\n",
    "        shutil.rmtree(dirpath)\n",
    "    \n",
    "    path = f\"./{directory}/{name}\"\n",
    "    os.mkdir(path)\n",
    "    return path"
   ]
  },
  {
   "cell_type": "code",
   "execution_count": 179,
   "id": "5a36d46a-26f9-466d-b09e-1353eb27b2df",
   "metadata": {},
   "outputs": [],
   "source": [
    "# get_path(\"\",\"simulation_results\")"
   ]
  },
  {
   "cell_type": "code",
   "execution_count": 180,
   "id": "206c9c39-4cf2-4c0a-bd00-425e4851cd03",
   "metadata": {},
   "outputs": [],
   "source": [
    "def simulate_SIR(graph,k,p,T,name,directory=\"./simulation_results/\"):\n",
    "    n = graph.number_of_nodes()\n",
    "    path = get_path(name,directory)\n",
    "    \n",
    "    steps = 1\n",
    "    status = [0]*n # status=O - suspectible\n",
    "    days = [0]*n\n",
    "    infected = []\n",
    "    cum_infected_data = [0]\n",
    "    infected_data = [0]\n",
    "    \n",
    "    infected = random.sample(list(graph.nodes()),k)\n",
    "    infected_data.append(k)\n",
    "    \n",
    "    for v in infected:\n",
    "        status[v] = 1 # status=1 - infected\n",
    "        days[v] = T\n",
    "        cum_infected_data[-1] = cum_infected_data[-1] + 1/n\n",
    "        \n",
    "    save_data_to_file(status,steps,path)\n",
    "        \n",
    "    while len(infected) > 0:\n",
    "        steps += 1\n",
    "        cum_infected_data.append(cum_infected_data[-1])\n",
    "        new_infected = []\n",
    "        \n",
    "        for node in infected:\n",
    "            for v in list(graph.neighbors(node)):\n",
    "                if status[v] == 0 and random.random() < p:\n",
    "                    new_infected.append(v)\n",
    "                    status[v] = 1\n",
    "                    days[v] = T\n",
    "                    cum_infected_data[-1] = cum_infected_data[-1] + 1/n\n",
    "            days[node] = days[node] - 1\n",
    "            if days[node] < 1:\n",
    "                infected.remove(node)\n",
    "                status[node] = 2 # status=2 - recovered\n",
    "                \n",
    "        infected = infected + new_infected\n",
    "        infected_data.append(len(infected))\n",
    "        \n",
    "        if steps % 5 == 0:\n",
    "            save_data_to_file(status,steps,path)\n",
    "            \n",
    "    save_data_to_file(status,steps,path)\n",
    "    \n",
    "    return cum_infected_data, infected_data, steps"
   ]
  },
  {
   "cell_type": "code",
   "execution_count": 181,
   "id": "45ecd6dd-dd65-45a9-9641-e23a345b7529",
   "metadata": {},
   "outputs": [],
   "source": [
    "def simulate_SEIR(graph,k,p1,p2,T1,T2,name,directory=\"./simulation_results\",snapshot_frequency=10): \n",
    "    # p1 - exposed period transmisson rate, \n",
    "    # p2 - infection period transmission rate, \n",
    "    # T1 - exposed period, \n",
    "    # T2 - infection period\n",
    "    \n",
    "    path = get_path(name,directory)\n",
    "    \n",
    "    n = graph.number_of_nodes()\n",
    "    \n",
    "    steps = 1\n",
    "    status = [0]*n\n",
    "    days = [0]*n\n",
    "    infected = []\n",
    "    exposed = []\n",
    "    cum_infected_data = [0]\n",
    "    cum_exposed_data = [0]\n",
    "    infected_data = [0]\n",
    "    exposed_data = [k]\n",
    "    \n",
    "    exposed = random.sample(list(graph.nodes()), k)\n",
    "    # exposed_data.append(k)\n",
    "    # infected_data.append(0)\n",
    "    \n",
    "    for v in exposed:\n",
    "        status[v] = 1 # status=1 - exposed\n",
    "        days[v] = T1\n",
    "        cum_exposed_data[-1] = cum_exposed_data[-1] + 1/n\n",
    "        \n",
    "    save_data_to_file(status,steps,path)\n",
    "        \n",
    "    while len(exposed) > 0 or len(infected) > 0:\n",
    "        steps += 1\n",
    "\n",
    "        cum_exposed_data.append(cum_exposed_data[-1])\n",
    "        cum_infected_data.append(cum_infected_data[-1])\n",
    "        new_infected = []\n",
    "        new_exposed = []\n",
    "        \n",
    "        for node in exposed:\n",
    "            \n",
    "            for v in list(graph.neighbors(node)):\n",
    "                if status[v] == 0 and random.random() < p1:\n",
    "                    new_exposed.append(v)\n",
    "                    status[v] = 1\n",
    "                    days[v] = T1\n",
    "                    cum_exposed_data[-1] = cum_exposed_data[-1] + 1/n\n",
    "            days[node] = days[node] - 1\n",
    "                \n",
    "            if days[node] < 1:\n",
    "                exposed.remove(node)\n",
    "                new_infected.append(node)\n",
    "                cum_infected_data[-1] = cum_infected_data[-1] + 1/n\n",
    "                status[node] = 2 # status=2 - infected\n",
    "                days[node] = T2\n",
    "\n",
    "        for node in infected:\n",
    "            \n",
    "            for v in list(graph.neighbors(node)):\n",
    "                if status[v] == 0 and random.random() < p2:\n",
    "                    new_exposed.append(v)\n",
    "                    status[v] = 1\n",
    "                    days[v] = T1\n",
    "                    cum_exposed_data[-1] = cum_exposed_data[-1] + 1/n\n",
    "            \n",
    "            days[node] = days[node] - 1\n",
    "                \n",
    "            if days[node] < 1:\n",
    "                infected.remove(node)\n",
    "                status[node] = 3 # status=3 - recovered/resistant\n",
    "\n",
    "        exposed = exposed + new_exposed\n",
    "        infected = infected + new_infected\n",
    "            \n",
    "        exposed_data.append(len(exposed))    \n",
    "        infected_data.append(len(infected))\n",
    "        \n",
    "        if steps % snapshot_frequency == 0:\n",
    "            save_data_to_file(status,steps,path)\n",
    "            \n",
    "    save_data_to_file(status,steps,path)\n",
    "    \n",
    "    return cum_exposed_data, cum_infected_data, exposed_data, infected_data, steps"
   ]
  },
  {
   "cell_type": "code",
   "execution_count": 182,
   "id": "a34f0d65-0902-4faa-b83f-0eb3de6bd03c",
   "metadata": {},
   "outputs": [],
   "source": [
    "start_time = time.time()\n",
    "cum_infected, infected, steps = simulate_SIR(G,3,0.01,14,f\"twitch_{COUNTRY}_sir\")\n",
    "end_time = time.time()"
   ]
  },
  {
   "cell_type": "code",
   "execution_count": 183,
   "id": "04e72ae0-1c50-41ec-95dc-4f8bc8a57215",
   "metadata": {},
   "outputs": [
    {
     "data": {
      "text/plain": [
       "1.1114914417266846"
      ]
     },
     "execution_count": 183,
     "metadata": {},
     "output_type": "execute_result"
    }
   ],
   "source": [
    "end_time - start_time"
   ]
  },
  {
   "cell_type": "code",
   "execution_count": 184,
   "id": "35edcdac-0497-4292-a12d-a0062a2863b4",
   "metadata": {},
   "outputs": [
    {
     "data": {
      "text/plain": [
       "96"
      ]
     },
     "execution_count": 184,
     "metadata": {},
     "output_type": "execute_result"
    }
   ],
   "source": [
    "steps"
   ]
  },
  {
   "cell_type": "code",
   "execution_count": 185,
   "id": "e2b34c31-78d8-46dc-8176-37ce07bd9cfb",
   "metadata": {},
   "outputs": [
    {
     "data": {
      "image/png": "[encoded data removed]",
      "text/plain": [
       "<Figure size 720x432 with 1 Axes>"
      ]
     },
     "metadata": {
      "needs_background": "light"
     },
     "output_type": "display_data"
    }
   ],
   "source": [
    "plt.figure(figsize=(10,6))\n",
    "plt.plot(cum_infected,c=\"tab:red\")\n",
    "plt.xlabel(\"days\")\n",
    "plt.ylabel(\"cumulative infected\")\n",
    "plt.show()"
   ]
  },
  {
   "cell_type": "code",
   "execution_count": 186,
   "id": "11d3c45d-89fb-4546-a8aa-e7ed5578923a",
   "metadata": {},
   "outputs": [
    {
     "data": {
      "image/png": "[encoded data removed]",
      "text/plain": [
       "<Figure size 720x432 with 1 Axes>"
      ]
     },
     "metadata": {
      "needs_background": "light"
     },
     "output_type": "display_data"
    }
   ],
   "source": [
    "plt.figure(figsize=(10,6))\n",
    "plt.plot(infected,c=\"tab:red\")\n",
    "plt.xlabel(\"days\")\n",
    "plt.ylabel(\"infected\")\n",
    "plt.show()"
   ]
  },
  {
   "cell_type": "code",
   "execution_count": 187,
   "id": "2c665245-006e-43ed-a589-984c8c260a45",
   "metadata": {},
   "outputs": [],
   "source": [
    "start_time = time.time()\n",
    "cum_exposed, cum_infected, exposed, infected, steps = simulate_SEIR(G,3,0.05,0.1,7,7,f\"twitch_{COUNTRY}_seir\")\n",
    "end_time = time.time()"
   ]
  },
  {
   "cell_type": "code",
   "execution_count": 188,
   "id": "21a9e2b8-62a6-49a5-8ec5-4e894d695e1a",
   "metadata": {},
   "outputs": [
    {
     "data": {
      "text/plain": [
       "1.2080698013305664"
      ]
     },
     "execution_count": 188,
     "metadata": {},
     "output_type": "execute_result"
    }
   ],
   "source": [
    "end_time - start_time"
   ]
  },
  {
   "cell_type": "code",
   "execution_count": 189,
   "id": "1a6d25b4-7ede-43bf-b293-f392ab701399",
   "metadata": {},
   "outputs": [
    {
     "data": {
      "image/png": "[encoded data removed]",
      "text/plain": [
       "<Figure size 720x432 with 1 Axes>"
      ]
     },
     "metadata": {
      "needs_background": "light"
     },
     "output_type": "display_data"
    }
   ],
   "source": [
    "plt.figure(figsize=(10,6))\n",
    "plt.plot(cum_exposed,c=\"tab:blue\",label=\"exposed\")\n",
    "plt.plot(cum_infected,c=\"tab:red\",label=\"infected\")\n",
    "plt.xlabel(\"days\")\n",
    "plt.ylabel(\"cumulative exposed/infected\")\n",
    "plt.legend()\n",
    "plt.show()"
   ]
  },
  {
   "cell_type": "code",
   "execution_count": 190,
   "id": "8c8adb49-b6ba-4e74-9f81-e59b56a022c1",
   "metadata": {},
   "outputs": [
    {
     "data": {
      "image/png": "[encoded data removed]",
      "text/plain": [
       "<Figure size 720x432 with 1 Axes>"
      ]
     },
     "metadata": {
      "needs_background": "light"
     },
     "output_type": "display_data"
    }
   ],
   "source": [
    "plt.figure(figsize=(10,6))\n",
    "plt.plot(exposed,c=\"tab:blue\",label=\"exposed\")\n",
    "plt.plot(infected,c=\"tab:red\",label=\"infected\")\n",
    "plt.xlabel(\"days\")\n",
    "plt.ylabel(\"exposed/infected\")\n",
    "plt.legend()\n",
    "plt.show()"
   ]
  }
 ],
 "metadata": {
  "kernelspec": {
   "display_name": "isz_env",
   "language": "python",
   "name": "isz_env"
  },
  "language_info": {
   "codemirror_mode": {
    "name": "ipython",
    "version": 3
   },
   "file_extension": ".py",
   "mimetype": "text/x-python",
   "name": "python",
   "nbconvert_exporter": "python",
   "pygments_lexer": "ipython3",
   "version": "3.9.7"
  },
  "toc": {
   "base_numbering": 1,
   "nav_menu": {},
   "number_sections": true,
   "sideBar": true,
   "skip_h1_title": false,
   "title_cell": "Table of Contents",
   "title_sidebar": "Contents",
   "toc_cell": false,
   "toc_position": {},
   "toc_section_display": true,
   "toc_window_display": false
  }
 },
 "nbformat": 4,
 "nbformat_minor": 5
}
